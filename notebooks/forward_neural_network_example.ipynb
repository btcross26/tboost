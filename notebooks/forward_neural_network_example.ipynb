{
 "cells": [
  {
   "cell_type": "markdown",
   "id": "f489d7db",
   "metadata": {},
   "source": [
    "# Forward-Propagating Neural Network Example\n",
    "\n",
    "This example demonstrates building a neural network in a forward, greedy manner. The code below utilizes `pytorch`, with the version listed under imports. `pytorch` is not included in the `genestboost` 'setup.py' file and must be installed separately. The dataset used to demonstrate will be the MNIST dataset. `pytorch` will be used to implement a convolutional neural network. As multivariate targets are not yet supported, the problem solved will be to predict a binary target - here, the digit 5 is arbitrarily chosen as the positive target class. Any other digit is in the 'other' class.\n",
    "\n",
    "The main thing to be aware of in going through the example is that `pytorch` utilizes its own tensor type under the hood, while `genestboost` performs calculations using `numpy` arrays. Switching between the two is easy using `torch.numpy` or `torch.from_numpy`, but getting this right in all the right places can be tricky and may be the source of bugs. Getting input and output sizes correct in advancing layers can be tricky as well.\n",
    "\n",
    "In the code that follows, three layers are built manually: two convolutional layers and one dense layer. After that, final dense layer is trained using `pytorch` that creates the final output. With a little creativity, subclassing, and some elbow grease, the process could be automated. Due to a lack of computing power on the machine for which this example is being run, the number of layers has been constrained. But you could imagine training larger and/or more layers. Again, when viewing final metrics, please keep in mind that no tuning has been performed. The calculations are purely for demonstration purposes."
   ]
  },
  {
   "cell_type": "code",
   "execution_count": 1,
   "id": "80a016f1",
   "metadata": {},
   "outputs": [
    {
     "name": "stdout",
     "output_type": "stream",
     "text": [
      "pytorch version: 1.8.1\n"
     ]
    }
   ],
   "source": [
    "import warnings\n",
    "import random\n",
    "import numpy as np\n",
    "\n",
    "from functools import partial\n",
    "from sklearn.metrics import roc_auc_score\n",
    "\n",
    "import matplotlib.pyplot as plt\n",
    "\n",
    "import torch\n",
    "import torch.nn as nn\n",
    "import torchvision\n",
    "import torchvision.datasets as datasets\n",
    "\n",
    "from genestboost import BoostedModel\n",
    "from genestboost.loss_functions import LogLoss\n",
    "from genestboost.link_functions import LogitLink\n",
    "\n",
    "%matplotlib inline\n",
    "\n",
    "print(\"pytorch version: {:s}\".format(torch.__version__))"
   ]
  },
  {
   "cell_type": "code",
   "execution_count": 2,
   "id": "d15ae066",
   "metadata": {},
   "outputs": [],
   "source": [
    "torch.manual_seed(17)   # set torch seed\n",
    "np.random.seed(17)      # set numpy seed"
   ]
  },
  {
   "cell_type": "markdown",
   "id": "843d4034",
   "metadata": {},
   "source": [
    "### pytorch Model Training Loop Helper"
   ]
  },
  {
   "cell_type": "code",
   "execution_count": 3,
   "id": "253336ab",
   "metadata": {},
   "outputs": [],
   "source": [
    "def training_loop(n_epochs, optimizer, model, loss_fn, train_loader, tol=1e-6):\n",
    "    \"\"\"Train a pytorch `model`.\"\"\"\n",
    "    for epoch in range(1, n_epochs + 1):\n",
    "        for imgs, labels in train_loader:\n",
    "            outputs = model(imgs)\n",
    "            loss = loss_fn(outputs, labels)\n",
    "            optimizer.zero_grad()\n",
    "            loss.backward()\n",
    "            optimizer.step()\n",
    "            \n",
    "# for the example layers, let's use 1 epoch, ADAM, and logloss at each boosted iteration\n",
    "# we will use these parameters for other layers as well\n",
    "example_trainer = partial(\n",
    "    training_loop,\n",
    "    n_epochs=1,\n",
    "    loss_fn=nn.MSELoss(), # remember each boosting iteration trains a regression nn.CrossEntropyLoss()\n",
    ")"
   ]
  },
  {
   "cell_type": "markdown",
   "id": "38cb0feb",
   "metadata": {},
   "source": [
    "### pytorch Custom Dataset class\n",
    "\n",
    "A simple class that takes the familiar X, y `sklearn` style matrices here is used to interface with `pytorch` for purposes of model training. The class does nothing more than take the X and y matrices and implement magic methods for `__len__` and `__getitem__` as recommended in the `pytorch` API."
   ]
  },
  {
   "cell_type": "code",
   "execution_count": 4,
   "id": "15012b40",
   "metadata": {},
   "outputs": [],
   "source": [
    "class NumpyDataset(torch.utils.data.Dataset):\n",
    "    \"\"\"A custom Dataset class to for use with training pytorch layers by boosting.\"\"\"\n",
    "    \n",
    "    def __init__(self, X, y, target_type=torch.float32):\n",
    "        self._data = torch.from_numpy(X).to(torch.float32).unsqueeze(1)\n",
    "        self._targets = torch.from_numpy(y).to(target_type)\n",
    "        \n",
    "        if self._data.shape[0] != self._targets.shape[0]:\n",
    "            raise AttributeError(\"X and y must have the same shape[0] entry\")\n",
    "        \n",
    "    def __len__(self):\n",
    "        return self._data.shape[0]\n",
    "    \n",
    "    def __getitem__(self, ndx):\n",
    "        return (self._data[ndx], self._targets[ndx])"
   ]
  },
  {
   "cell_type": "markdown",
   "id": "fd7b1c2a",
   "metadata": {},
   "source": [
    "### Load MNIST data\n",
    "\n",
    "Here, we load the MNIST dataset from `torchvision.datasets` and create a binary target for the number 5. `genestboost` does not yet have support for multivariate target boosting."
   ]
  },
  {
   "cell_type": "code",
   "execution_count": 5,
   "id": "5ccba5b3",
   "metadata": {},
   "outputs": [],
   "source": [
    "# # download MNIST data\n",
    "# with warnings.catch_warnings():\n",
    "#     warnings.simplefilter(\"ignore\")\n",
    "#     _ = datasets.MNIST(root='./data', train=True, download=True, transform=None)\n",
    "#     _ = datasets.MNIST(root='./data', train=False, download=True, transform=None)"
   ]
  },
  {
   "cell_type": "code",
   "execution_count": 6,
   "id": "0076ef5c",
   "metadata": {},
   "outputs": [],
   "source": [
    "# load data\n",
    "mnist_train = datasets.MNIST(root='./data', train=True, transform=None)\n",
    "mnist_test = datasets.MNIST(root='./data', train=False, transform=None)\n",
    "\n",
    "# X, y - let's create a binary target for the number 5\n",
    "X_train = mnist_train.data\n",
    "y_train = torch.where(mnist_train.targets == 5, 1, 0)\n",
    "X_test = mnist_test.data\n",
    "y_test = torch.where(mnist_test.targets == 5, 1, 0)"
   ]
  },
  {
   "cell_type": "markdown",
   "id": "f800dfb3",
   "metadata": {},
   "source": [
    "### Sample Positive Targets"
   ]
  },
  {
   "cell_type": "code",
   "execution_count": 7,
   "id": "15fe2da4",
   "metadata": {},
   "outputs": [
    {
     "data": {
      "image/png": "[encoded data removed]",
      "text/plain": [
       "<Figure size 1440x288 with 10 Axes>"
      ]
     },
     "metadata": {
      "needs_background": "light"
     },
     "output_type": "display_data"
    }
   ],
   "source": [
    "# sample 5 image\n",
    "fig, axes = plt.subplots(1, 10)\n",
    "fig.set_figheight(4)\n",
    "fig.set_figwidth(20)\n",
    "for i in range(10):\n",
    "    ax = axes[i]\n",
    "    ax.imshow(X_train[y_train == 1][i], cmap=plt.get_cmap(\"gray_r\"));"
   ]
  },
  {
   "cell_type": "markdown",
   "id": "6c76194b",
   "metadata": {},
   "source": [
    "### Sample Negative Targets"
   ]
  },
  {
   "cell_type": "code",
   "execution_count": 8,
   "id": "1f694516",
   "metadata": {},
   "outputs": [
    {
     "data": {
      "image/png": "[encoded data removed]",
      "text/plain": [
       "<Figure size 1440x288 with 10 Axes>"
      ]
     },
     "metadata": {
      "needs_background": "light"
     },
     "output_type": "display_data"
    }
   ],
   "source": [
    "# sample non-5 image\n",
    "fig, axes = plt.subplots(1, 10)\n",
    "fig.set_figheight(4)\n",
    "fig.set_figwidth(20)\n",
    "for i in range(10):\n",
    "    ax = axes[i]\n",
    "    ax.imshow(X_train[y_train == 0][i], cmap=plt.get_cmap(\"gray_r\"));"
   ]
  },
  {
   "cell_type": "markdown",
   "id": "7897da01",
   "metadata": {},
   "source": [
    "### Target rate, image size, and mean/std calculation"
   ]
  },
  {
   "cell_type": "code",
   "execution_count": 9,
   "id": "46947e17",
   "metadata": {},
   "outputs": [
    {
     "data": {
      "text/plain": [
       "0.09035000205039978"
      ]
     },
     "execution_count": 9,
     "metadata": {},
     "output_type": "execute_result"
    }
   ],
   "source": [
    "# target incidence in training set\n",
    "y_train.to(torch.float32).mean().item()"
   ]
  },
  {
   "cell_type": "code",
   "execution_count": 10,
   "id": "9ed74bb5",
   "metadata": {},
   "outputs": [
    {
     "data": {
      "text/plain": [
       "torch.Size([28, 28])"
      ]
     },
     "execution_count": 10,
     "metadata": {},
     "output_type": "execute_result"
    }
   ],
   "source": [
    "# image size\n",
    "X_train[0].shape"
   ]
  },
  {
   "cell_type": "code",
   "execution_count": 11,
   "id": "29584acd",
   "metadata": {},
   "outputs": [],
   "source": [
    "# image means and std for normalization\n",
    "train_mean = X_train.to(torch.float32).mean()\n",
    "train_std = X_train.to(torch.float32).std()"
   ]
  },
  {
   "cell_type": "markdown",
   "id": "51e43aa2",
   "metadata": {},
   "source": [
    "### CNN Weak Learner - Initial Layer\n",
    "\n",
    "For the initial boosted layer, let's use a convolutional net, with a single convolution in each linear that downsizes to a 32-unit dense layer before making the final class prediction. Arbitrarily, `tanh` activations are used."
   ]
  },
  {
   "cell_type": "code",
   "execution_count": 12,
   "id": "e0e2e171",
   "metadata": {},
   "outputs": [],
   "source": [
    "class NetL1(nn.Module):    \n",
    "    def __init__(self):\n",
    "        super().__init__()\n",
    "        self.conv1 = nn.Conv2d(1, 1, kernel_size=3, padding=1)\n",
    "        self.act1 = nn.Tanh()\n",
    "        self.dense2 = nn.Linear(28 * 28, 1)\n",
    "        \n",
    "    def forward(self, X):\n",
    "        # normalize the inputs with training set image means and std\n",
    "        out = torchvision.transforms.functional.normalize(X, train_mean, train_std)\n",
    "        \n",
    "        # network modules\n",
    "        out = self.conv1(X)\n",
    "        out = self.act1(out)\n",
    "        out = out.view(-1, 28 * 28)\n",
    "        out = self.dense2(out).flatten()\n",
    "        return out"
   ]
  },
  {
   "cell_type": "markdown",
   "id": "cfda9af8",
   "metadata": {},
   "source": [
    "That is the learner, now let's wrap it in a class with fit and predict methods."
   ]
  },
  {
   "cell_type": "code",
   "execution_count": 13,
   "id": "03dc0c92",
   "metadata": {},
   "outputs": [],
   "source": [
    "class NetL1Wrapper:\n",
    "    \"\"\"Wrapper for NetL1 class for use in BoostedModel.\"\"\"\n",
    "    \n",
    "    def __init__(self, training_epochs=5, lr=0.01, random_state=0):\n",
    "        self._model = None   # attribute to store the NN\n",
    "        self._epochs = training_epochs\n",
    "        self._lr = lr\n",
    "        random.seed(random_state)\n",
    "    \n",
    "    def fit(self, X, y, weights=None):\n",
    "        self._model = NetL1()\n",
    "        self._initialize_weights()\n",
    "        optimizer = torch.optim.Adam(lr=self._lr, params=self._model.parameters())\n",
    "        train_loader = torch.utils.data.DataLoader(\n",
    "            NumpyDataset(X, y),\n",
    "            batch_size=32,\n",
    "            shuffle=True,\n",
    "        )\n",
    "        example_trainer(\n",
    "            model=self._model,\n",
    "            train_loader=train_loader,\n",
    "            optimizer=optimizer\n",
    "        )\n",
    "        \n",
    "        # set model attribute and return self\n",
    "        return self\n",
    "    \n",
    "    def predict(self, X):\n",
    "        with torch.no_grad():\n",
    "            Xt = torch.from_numpy(X).to(torch.float32).unsqueeze(1)\n",
    "            outputs = self._model(Xt).squeeze().numpy()\n",
    "        return outputs\n",
    "    \n",
    "    def _initialize_weights(self):\n",
    "        with torch.no_grad():\n",
    "            self._model.apply(self.init_weights)\n",
    "                \n",
    "    @staticmethod\n",
    "    def init_weights(layer):\n",
    "        if type(layer) != NetL1 and hasattr(layer, \"weight\"):\n",
    "            torch.nn.init.xavier_uniform_(layer.weight)\n",
    "            layer.bias.data.fill_(0.01)"
   ]
  },
  {
   "cell_type": "markdown",
   "id": "9aad8c10",
   "metadata": {},
   "source": [
    "### Boost Units that will Build the First Layer"
   ]
  },
  {
   "cell_type": "code",
   "execution_count": 14,
   "id": "824ae993",
   "metadata": {
    "scrolled": false
   },
   "outputs": [],
   "source": [
    "model = BoostedModel(\n",
    "    link=LogitLink(),\n",
    "    loss=LogLoss(),\n",
    "    model_callback=NetL1Wrapper,\n",
    "    alpha=5.0,\n",
    "    step_type=\"best\",\n",
    "    init_type=\"zero\",\n",
    "    validation_fraction=0.20,\n",
    "    validation_iter_stop=10,\n",
    "    validation_stratify=True,\n",
    ")\n",
    "model.fit(X_train.numpy(), y_train.to(torch.float32).numpy(), iterations=32);"
   ]
  },
  {
   "cell_type": "code",
   "execution_count": 15,
   "id": "ed7fcee5",
   "metadata": {},
   "outputs": [
    {
     "data": {
      "image/png": "[encoded data removed]",
      "text/plain": [
       "<Figure size 1300x700 with 1 Axes>"
      ]
     },
     "metadata": {
      "needs_background": "light"
     },
     "output_type": "display_data"
    }
   ],
   "source": [
    "fig = plt.figure(figsize=(6.5, 3.5), dpi=200)\n",
    "ax = fig.add_subplot(111)\n",
    "ax.plot(model.get_loss_history(), label=[\"Training\", \"Holdout\"])\n",
    "ax.set_ylabel(\"Log Loss\")\n",
    "ax.set_xlabel(\"Boosting Iteration\")\n",
    "ax.legend(loc=\"best\");"
   ]
  },
  {
   "cell_type": "code",
   "execution_count": 16,
   "id": "25d99249",
   "metadata": {},
   "outputs": [
    {
     "data": {
      "text/plain": [
       "32"
      ]
     },
     "execution_count": 16,
     "metadata": {},
     "output_type": "execute_result"
    }
   ],
   "source": [
    "model.get_iterations()   # number of out channels for the first layer"
   ]
  },
  {
   "cell_type": "markdown",
   "id": "d207d0f4",
   "metadata": {},
   "source": [
    "### Build the first layer\n",
    "\n",
    "Let's build the first layer, a single layer of convolutions, by extracting the boosted convolutional weights from each model iteration. To do this, we will access the \"private\" `_model_list` attribute of the underlying `BoostedModel` class. This goes against convention - however, access to the individual models will be exposed in version 1.0.\n",
    "\n",
    "Below, we create a new `pytorch` module that is the same as the boosted model with a few key differences:\n",
    "* The number of channels to the convolutional layer has been changed to match the number of boosting iterations in the boosted model above; and\n",
    "* The dense layer and its associated input transformation inside of the module `forward` method have been removed.\n",
    "\n",
    "After the module class has been created, we will aggregate the weights from the boosted model convolutional layer , set the weights of the new module, and then use the module to create inputs for the next planned network layer."
   ]
  },
  {
   "cell_type": "code",
   "execution_count": 17,
   "id": "16164741",
   "metadata": {},
   "outputs": [],
   "source": [
    "weights = (\n",
    "    torch\n",
    "    .stack([m._model.conv1.weight for m, _ in model._model_list])\n",
    "    .reshape((-1, 1, 3, 3))\n",
    ")\n",
    "bias = torch.stack([m._model.conv1.bias for m, _ in model._model_list]).squeeze()"
   ]
  },
  {
   "cell_type": "code",
   "execution_count": 18,
   "id": "f5e1f6e7",
   "metadata": {},
   "outputs": [],
   "source": [
    "num_channels_1 = model.get_iterations()\n",
    "\n",
    "class Module1(nn.Module):    \n",
    "    def __init__(self, num_channels):\n",
    "        super().__init__()\n",
    "        self.conv1 = nn.Conv2d(1, num_channels, kernel_size=3, padding=1)\n",
    "        self.act1 = nn.Tanh()\n",
    "        \n",
    "    def forward(self, X):\n",
    "        # normalize the inputs with training set image means and std\n",
    "        out = torchvision.transforms.functional.normalize(X, train_mean, train_std)\n",
    "        \n",
    "        # network modules\n",
    "        out = self.conv1(X)\n",
    "        out = self.act1(out)\n",
    "        return out"
   ]
  },
  {
   "cell_type": "code",
   "execution_count": 19,
   "id": "3ddd34d7",
   "metadata": {},
   "outputs": [],
   "source": [
    "# set the weights from our first round of boosting\n",
    "mod1 = Module1(num_channels_1)\n",
    "mod1.conv1.weight = torch.nn.Parameter(weights)\n",
    "mod1.conv1.bias = torch.nn.Parameter(bias)"
   ]
  },
  {
   "cell_type": "markdown",
   "id": "bdd57892",
   "metadata": {},
   "source": [
    "### Build the second layer\n",
    "\n",
    "Now let's create the second layer (module) and wrapper for use in `genestboost`. Without questioning, we will build a module to perform a 2x2 max pool (MNIST data has a black background) with stride 2, followed by another 3x3 convolutional layer. We will use `mod1` under a `torch.no_grad` context so that the weights remain static. This allows use to make the same `BoostedModel` call above without having to worry about re-creating inputs at each new layer."
   ]
  },
  {
   "cell_type": "code",
   "execution_count": 20,
   "id": "8593e600",
   "metadata": {},
   "outputs": [],
   "source": [
    "class NetL2(nn.Module):    \n",
    "    def __init__(self, channels_in):\n",
    "        super().__init__()\n",
    "        self.conv1 = nn.Conv2d(channels_in, 1, kernel_size=3, padding=1)\n",
    "        self.act1 = nn.Tanh()\n",
    "        self.dense2 = nn.Linear(14 * 14, 1)   # max pooling will cut size in half\n",
    "        \n",
    "    def forward(self, X):\n",
    "        # send the input through our first layer here\n",
    "        with torch.no_grad():\n",
    "            out = mod1(X)\n",
    "            \n",
    "        # perform second layer calculations here\n",
    "        out = nn.functional.max_pool2d(out, kernel_size=2, stride=2)   # max pooling\n",
    "        out = self.conv1(out)\n",
    "        out = self.act1(out)\n",
    "        out = out.view(-1, 14 * 14)\n",
    "        out = self.dense2(out).flatten()\n",
    "        return out"
   ]
  },
  {
   "cell_type": "code",
   "execution_count": 21,
   "id": "8e4575a3",
   "metadata": {},
   "outputs": [],
   "source": [
    "class NetL2Wrapper:\n",
    "    \"\"\"Wrapper for NetL2 for use in the BoostedModel class.\"\"\"\n",
    "    \n",
    "    def __init__(self, channels_in, training_epochs=5, lr=0.01, random_state=0):\n",
    "        self._channels_in = channels_in\n",
    "        self._model = None   # attribute to store the NN\n",
    "        self._epochs = training_epochs\n",
    "        self._lr = lr\n",
    "        random.seed(random_state)\n",
    "    \n",
    "    def fit(self, X, y, weights=None):\n",
    "        self._model = NetL2(self._channels_in)\n",
    "        self._initialize_weights()\n",
    "        optimizer = torch.optim.Adam(lr=self._lr, params=self._model.parameters())\n",
    "        train_loader = torch.utils.data.DataLoader(\n",
    "            NumpyDataset(X, y),\n",
    "            batch_size=32,\n",
    "            shuffle=True,\n",
    "        )\n",
    "        example_trainer(\n",
    "            model=self._model,\n",
    "            train_loader=train_loader,\n",
    "            optimizer=optimizer\n",
    "        )\n",
    "        \n",
    "        # set model attribute and return self\n",
    "        return self\n",
    "    \n",
    "    def predict(self, X):\n",
    "        with torch.no_grad():\n",
    "            Xt = torch.from_numpy(X).to(torch.float32).unsqueeze(1)\n",
    "            outputs = self._model(Xt).squeeze().numpy()\n",
    "        return outputs\n",
    "    \n",
    "    def _initialize_weights(self):\n",
    "        with torch.no_grad():\n",
    "            self._model.apply(self.init_weights)\n",
    "                \n",
    "    @staticmethod\n",
    "    def init_weights(layer):\n",
    "        if type(layer) != NetL2 and hasattr(layer, \"weight\"):\n",
    "            torch.nn.init.xavier_uniform_(layer.weight)\n",
    "            layer.bias.data.fill_(0.0)"
   ]
  },
  {
   "cell_type": "code",
   "execution_count": 22,
   "id": "e4b60cd5",
   "metadata": {
    "scrolled": false
   },
   "outputs": [],
   "source": [
    "model = BoostedModel(\n",
    "    link=LogitLink(),\n",
    "    loss=LogLoss(),\n",
    "    model_callback=NetL2Wrapper,\n",
    "    model_callback_kwargs={\"channels_in\": num_channels_1},\n",
    "    alpha=5.0,\n",
    "    step_type=\"best\",\n",
    "    init_type=\"zero\",\n",
    "    validation_fraction=0.20,\n",
    "    validation_iter_stop=10,\n",
    "    validation_stratify=True,\n",
    ")\n",
    "model.fit(X_train.numpy(), y_train.numpy(), iterations=32);"
   ]
  },
  {
   "cell_type": "code",
   "execution_count": 23,
   "id": "55f81f57",
   "metadata": {},
   "outputs": [
    {
     "data": {
      "image/png": "[encoded data removed]",
      "text/plain": [
       "<Figure size 1300x700 with 1 Axes>"
      ]
     },
     "metadata": {
      "needs_background": "light"
     },
     "output_type": "display_data"
    }
   ],
   "source": [
    "fig = plt.figure(figsize=(6.5, 3.5), dpi=200)\n",
    "ax = fig.add_subplot(111)\n",
    "ax.plot(model.get_loss_history(), label=[\"Training\", \"Holdout\"])\n",
    "ax.set_ylabel(\"Log Loss\")\n",
    "ax.set_xlabel(\"Boosting Iteration\")\n",
    "ax.legend(loc=\"best\");"
   ]
  },
  {
   "cell_type": "code",
   "execution_count": 24,
   "id": "0a970216",
   "metadata": {},
   "outputs": [
    {
     "data": {
      "text/plain": [
       "32"
      ]
     },
     "execution_count": 24,
     "metadata": {},
     "output_type": "execute_result"
    }
   ],
   "source": [
    "model.get_iterations()"
   ]
  },
  {
   "cell_type": "markdown",
   "id": "0fbe22f4",
   "metadata": {},
   "source": [
    "Below, we once again will store the weights from the second layer and create a second module. The second module will give us the output from the first two layers and will be used internally in building layer three to get inputs so that once gain, we can make the same call to `BoostedModel`, only having to change the `model_callback` and `model_callback_kwargs`."
   ]
  },
  {
   "cell_type": "code",
   "execution_count": 25,
   "id": "0d7721ae",
   "metadata": {},
   "outputs": [],
   "source": [
    "weights = (\n",
    "    torch\n",
    "    .stack([m._model.conv1.weight for m, _ in model._model_list])\n",
    "    .reshape((-1, 32, 3, 3))\n",
    ")\n",
    "bias = torch.stack([m._model.conv1.bias for m, _ in model._model_list]).squeeze()"
   ]
  },
  {
   "cell_type": "code",
   "execution_count": 26,
   "id": "c2d034d4",
   "metadata": {},
   "outputs": [],
   "source": [
    "num_channels_2 = model.get_iterations()"
   ]
  },
  {
   "cell_type": "code",
   "execution_count": 27,
   "id": "3672fa38",
   "metadata": {},
   "outputs": [],
   "source": [
    "class Module2(nn.Module):    \n",
    "    def __init__(self, channels_in, channels_out):\n",
    "        super().__init__()\n",
    "        self.conv1 = nn.Conv2d(channels_in, channels_out, kernel_size=3, padding=1)\n",
    "        self.act1 = nn.Tanh()\n",
    "        \n",
    "    def forward(self, X):\n",
    "        # send the input through our first layer here\n",
    "        with torch.no_grad():\n",
    "            out = mod1(X)\n",
    "            \n",
    "        # perform second layer calculations here\n",
    "        out = nn.functional.max_pool2d(out, kernel_size=2, stride=2)   # max pooling\n",
    "        out = self.conv1(out)\n",
    "        out = self.act1(out)\n",
    "        return out"
   ]
  },
  {
   "cell_type": "code",
   "execution_count": 28,
   "id": "87bb0910",
   "metadata": {},
   "outputs": [],
   "source": [
    "# set the weights from our first round of boosting\n",
    "mod2 = Module2(num_channels_1, num_channels_2)\n",
    "mod2.conv1.weight = torch.nn.Parameter(weights)\n",
    "mod2.conv1.bias = torch.nn.Parameter(bias)"
   ]
  },
  {
   "cell_type": "markdown",
   "id": "adebe1ec",
   "metadata": {},
   "source": [
    "### Build the final, dense layer\n",
    "\n",
    "Repeat the above process for the final dense layer."
   ]
  },
  {
   "cell_type": "code",
   "execution_count": 29,
   "id": "19ae9da7",
   "metadata": {},
   "outputs": [],
   "source": [
    "class NetL3(nn.Module):    \n",
    "    def __init__(self):\n",
    "        super().__init__()\n",
    "        self.dense1 = nn.Linear(32 * 14 * 14, 1)\n",
    "        \n",
    "    def forward(self, X):\n",
    "        # send the input through our first two layers (mod1 and mod2) here\n",
    "        # remember that mod2 contains mod1\n",
    "        with torch.no_grad():\n",
    "            out = mod2(X)   # remember that mod2 contains mod1\n",
    "            \n",
    "        # perform third layer calculations here\n",
    "        out = out.view(-1, 14 * 14 * 32)\n",
    "        out = self.dense1(out).flatten()\n",
    "        return out"
   ]
  },
  {
   "cell_type": "code",
   "execution_count": 30,
   "id": "618a2276",
   "metadata": {},
   "outputs": [],
   "source": [
    "class NetL3Wrapper:    \n",
    "    def __init__(self, training_epochs=5, lr=0.01, random_state=0):\n",
    "        self._model = None   # attribute to store the NN\n",
    "        self._epochs = training_epochs\n",
    "        self._lr = lr\n",
    "        random.seed(random_state)\n",
    "    \n",
    "    def fit(self, X, y, weights=None):\n",
    "        self._model = NetL3()\n",
    "        self._initialize_weights()\n",
    "        optimizer = torch.optim.Adam(lr=self._lr, params=self._model.parameters())\n",
    "        train_loader = torch.utils.data.DataLoader(\n",
    "            NumpyDataset(X, y),\n",
    "            batch_size=32,\n",
    "            shuffle=True,\n",
    "        )\n",
    "        example_trainer(\n",
    "            model=self._model,\n",
    "            train_loader=train_loader,\n",
    "            optimizer=optimizer\n",
    "        )\n",
    "        \n",
    "        # set model attribute and return self\n",
    "        return self\n",
    "    \n",
    "    def predict(self, X):\n",
    "        with torch.no_grad():\n",
    "            Xt = torch.from_numpy(X).to(torch.float32).unsqueeze(1)\n",
    "            outputs = self._model(Xt).squeeze().numpy()\n",
    "        return outputs\n",
    "    \n",
    "    def _initialize_weights(self):\n",
    "        with torch.no_grad():\n",
    "            self._model.apply(self.init_weights)\n",
    "                \n",
    "    @staticmethod\n",
    "    def init_weights(layer):\n",
    "        if type(layer) != NetL3 and hasattr(layer, \"weight\"):\n",
    "            torch.nn.init.xavier_uniform_(layer.weight)\n",
    "            layer.bias.data.fill_(0.0)"
   ]
  },
  {
   "cell_type": "code",
   "execution_count": 31,
   "id": "58f91eab",
   "metadata": {
    "scrolled": false
   },
   "outputs": [],
   "source": [
    "model = BoostedModel(\n",
    "    link=LogitLink(),\n",
    "    loss=LogLoss(),\n",
    "    model_callback=NetL3Wrapper,\n",
    "    model_callback_kwargs={},\n",
    "    alpha=5.0,\n",
    "    step_type=\"best\",\n",
    "    init_type=\"zero\",\n",
    "    validation_fraction=0.20,\n",
    "    validation_iter_stop=10,\n",
    "    validation_stratify=True,\n",
    ")\n",
    "model.fit(X_train.numpy(), y_train.numpy(), iterations=16);"
   ]
  },
  {
   "cell_type": "code",
   "execution_count": 32,
   "id": "979824e8",
   "metadata": {},
   "outputs": [
    {
     "data": {
      "image/png": "[encoded data removed]",
      "text/plain": [
       "<Figure size 1300x700 with 1 Axes>"
      ]
     },
     "metadata": {
      "needs_background": "light"
     },
     "output_type": "display_data"
    }
   ],
   "source": [
    "fig = plt.figure(figsize=(6.5, 3.5), dpi=200)\n",
    "ax = fig.add_subplot(111)\n",
    "ax.plot(model.get_loss_history(), label=[\"Training\", \"Holdout\"])\n",
    "ax.set_ylabel(\"Log Loss\")\n",
    "ax.set_xlabel(\"Boosting Iteration\")\n",
    "ax.legend(loc=\"best\");"
   ]
  },
  {
   "cell_type": "markdown",
   "id": "288fdd05",
   "metadata": {},
   "source": [
    "### Putting it all together in a single network\n",
    "\n",
    "We could use the last prediction as is - a boosted ensemble of convolutional neural networks that was trained one convolutional layer at a time. Just for fun, though, let's build a final model that is a single neural network.\n",
    "\n",
    "To do this, we first create module three, a `pytorch` network of our layers thus far, then optimize the final output using `pytorch`. Since we are using `pytorch` directly here, the final dense output layer will be trained as a classifier with two outputs. `CrossEntropyLoss` will be used - this will automatically log-softmax the two outputs in the loss calculation. Note that this needs to be done manually on the final predictions if the intent is to convert to probabilities."
   ]
  },
  {
   "cell_type": "code",
   "execution_count": 33,
   "id": "00d25b48",
   "metadata": {},
   "outputs": [],
   "source": [
    "weights = (\n",
    "    torch\n",
    "    .stack([m._model.dense1.weight for m, _ in model._model_list])\n",
    "    .squeeze(1)\n",
    ")\n",
    "bias = torch.stack([m._model.dense1.bias for m, _ in model._model_list]).squeeze()"
   ]
  },
  {
   "cell_type": "code",
   "execution_count": 34,
   "id": "333fd8d4",
   "metadata": {},
   "outputs": [],
   "source": [
    "class Module3(nn.Module):\n",
    "    \"\"\"Module3 - note the 16 channels out corresponding to the boosting iterations above.\"\"\"\n",
    "    def __init__(self):\n",
    "        super().__init__()\n",
    "        self.dense1 = nn.Linear(32 * 14 * 14, 16)\n",
    "        \n",
    "    def forward(self, X):\n",
    "        # send the input through our first two layers (mod1 and mod2) here\n",
    "        # remember that mod2 contains mod1\n",
    "        with torch.no_grad():\n",
    "            out = mod2(X)\n",
    "            \n",
    "        # perform third layer calculations here\n",
    "        out = out.view(-1, 14 * 14 * 32)\n",
    "        out = self.dense1(out)\n",
    "        return out"
   ]
  },
  {
   "cell_type": "code",
   "execution_count": 35,
   "id": "ffb9815c",
   "metadata": {},
   "outputs": [],
   "source": [
    "# set the weights from our first round of boosting\n",
    "mod3 = Module3()\n",
    "mod3.dense1.weight = torch.nn.Parameter(weights)\n",
    "mod3.dense1.bias = torch.nn.Parameter(bias)"
   ]
  },
  {
   "cell_type": "code",
   "execution_count": 36,
   "id": "066e8fa2",
   "metadata": {},
   "outputs": [],
   "source": [
    "class FinalNet(nn.Module):\n",
    "    def __init__(self):\n",
    "        super().__init__()\n",
    "        self.dense1 = nn.Linear(16, 2)   # output for each class\n",
    "        \n",
    "    def forward(self, X):\n",
    "        with torch.no_grad():\n",
    "            out = mod3(X)   # remember that mod2 contains mod1\n",
    "        out = self.dense1(out)\n",
    "        return out   "
   ]
  },
  {
   "cell_type": "code",
   "execution_count": 37,
   "id": "cc9951ec",
   "metadata": {},
   "outputs": [],
   "source": [
    "# create and train the model for an epoch\n",
    "final_model = FinalNet()\n",
    "train_loader = torch.utils.data.DataLoader(\n",
    "    NumpyDataset(X_train.numpy(), y_train.numpy(), target_type=torch.long),\n",
    "    batch_size=32,\n",
    "    shuffle=True,\n",
    ")\n",
    "training_loop(\n",
    "    n_epochs=1,\n",
    "    optimizer=torch.optim.Adam(lr=0.01, params=final_model.parameters()),\n",
    "    model=final_model,\n",
    "    loss_fn=nn.CrossEntropyLoss(),\n",
    "    train_loader=train_loader\n",
    ")"
   ]
  },
  {
   "cell_type": "markdown",
   "id": "2b705225",
   "metadata": {},
   "source": [
    "### Evaluate Train and Test Error"
   ]
  },
  {
   "cell_type": "code",
   "execution_count": 38,
   "id": "e42d7e0c",
   "metadata": {},
   "outputs": [],
   "source": [
    "final_model.eval()   # set model in eval mode\n",
    "train_preds = final_model(X_train.to(torch.float32).unsqueeze(1))\n",
    "train_preds = nn.functional.softmax(train_preds, dim=1)[:, 1].detach().numpy()\n",
    "test_preds = final_model(X_test.to(torch.float32).unsqueeze(1))\n",
    "test_preds = nn.functional.softmax(test_preds, dim=1)[:, 1].detach().numpy()"
   ]
  },
  {
   "cell_type": "code",
   "execution_count": 39,
   "id": "cce475b9",
   "metadata": {},
   "outputs": [],
   "source": [
    "train_roc = roc_auc_score(y_train.numpy(), train_preds)\n",
    "train_accuracy = np.sum((y_train.numpy() == 1) == (train_preds > 0.5)) / train_preds.shape[0]\n",
    "test_roc = roc_auc_score(y_test.numpy(), test_preds)\n",
    "test_accuracy = np.sum((y_test.numpy() == 1) == (test_preds > 0.5)) / test_preds.shape[0]"
   ]
  },
  {
   "cell_type": "code",
   "execution_count": 40,
   "id": "83e002ba",
   "metadata": {},
   "outputs": [
    {
     "name": "stdout",
     "output_type": "stream",
     "text": [
      "Training set:\n",
      "    ROCAUC: 0.990\n",
      "  Accuracy: 0.981\n",
      "\n",
      "Test set:\n",
      "    ROCAUC: 0.985\n",
      "  Accuracy: 0.980\n"
     ]
    }
   ],
   "source": [
    "print(\"Training set:\")\n",
    "print(\"    ROCAUC: {:.3f}\".format(train_roc))\n",
    "print(\"  Accuracy: {:.3f}\".format(train_accuracy))\n",
    "print()\n",
    "print(\"Test set:\")\n",
    "print(\"    ROCAUC: {:.3f}\".format(test_roc))\n",
    "print(\"  Accuracy: {:.3f}\".format(test_accuracy))"
   ]
  }
 ],
 "metadata": {
  "kernelspec": {
   "display_name": "genestboost",
   "language": "python",
   "name": "genestboost"
  },
  "language_info": {
   "codemirror_mode": {
    "name": "ipython",
    "version": 3
   },
   "file_extension": ".py",
   "mimetype": "text/x-python",
   "name": "python",
   "nbconvert_exporter": "python",
   "pygments_lexer": "ipython3",
   "version": "3.8.8"
  }
 },
 "nbformat": 4,
 "nbformat_minor": 5
}
